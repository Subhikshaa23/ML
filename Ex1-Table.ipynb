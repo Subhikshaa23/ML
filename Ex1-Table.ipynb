{
 "cells": [
  {
   "cell_type": "code",
   "execution_count": 1,
   "id": "9418c742",
   "metadata": {},
   "outputs": [],
   "source": [
    "#Tablular Data Preprocessing"
   ]
  },
  {
   "cell_type": "code",
   "execution_count": 2,
   "id": "38cd77db",
   "metadata": {},
   "outputs": [],
   "source": [
    "import numpy as np\n",
    "import pandas as pd\n",
    "import seaborn as sns\n",
    "import matplotlib.pyplot as plt"
   ]
  },
  {
   "cell_type": "code",
   "execution_count": 3,
   "id": "4f0c11c9",
   "metadata": {},
   "outputs": [],
   "source": [
    "df = pd.read_csv('Data.csv')"
   ]
  },
  {
   "cell_type": "code",
   "execution_count": 4,
   "id": "662351bf",
   "metadata": {},
   "outputs": [
    {
     "data": {
      "text/plain": [
       "(10030, 8)"
      ]
     },
     "execution_count": 4,
     "metadata": {},
     "output_type": "execute_result"
    }
   ],
   "source": [
    "df.shape"
   ]
  },
  {
   "cell_type": "code",
   "execution_count": 5,
   "id": "8be88b86",
   "metadata": {},
   "outputs": [
    {
     "data": {
      "text/plain": [
       "<bound method NDFrame.describe of                  Name  Age Date_of_Birth  Gender Marital_Status    BMI  \\\n",
       "0          John Smith   25    1999-03-15    Male         Single  24.50   \n",
       "1       Sarah Johnson   28    1996-07-22  Female        Married  22.80   \n",
       "2       Michael Brown   22    2002-01-10    Male         Single  26.30   \n",
       "3         Emily Davis   24    2000-05-30  Female         Single  21.70   \n",
       "4        David Wilson   30    1993-11-05    Male        Married  29.10   \n",
       "...               ...  ...           ...     ...            ...    ...   \n",
       "10025   John Thompson  114    1909-02-26       m              s  33.97   \n",
       "10026        Kim Ruiz  102    1921-06-14  female         single  43.10   \n",
       "10027      Scott Paul  115    1908-09-09       m        married  38.15   \n",
       "10028    Timothy Rice   87    1936-07-27       m              M  12.91   \n",
       "10029  Roberto Huerta   10    2013-08-01    Male              M  22.24   \n",
       "\n",
       "       Practicing_Hours_2024_Jan_to_Aug Dietary_Preference  \n",
       "0                                   300         Vegetarian  \n",
       "1                                   250     Non-Vegetarian  \n",
       "2                                   320     Non-Vegetarian  \n",
       "3                                   280         Vegetarian  \n",
       "4                                   280     Non-Vegetarian  \n",
       "...                                 ...                ...  \n",
       "10025                               300                 nv  \n",
       "10026                               306         Vegetarian  \n",
       "10027                                54                  v  \n",
       "10028                               484                veg  \n",
       "10029                                42                veg  \n",
       "\n",
       "[10030 rows x 8 columns]>"
      ]
     },
     "execution_count": 5,
     "metadata": {},
     "output_type": "execute_result"
    }
   ],
   "source": [
    "df.describe"
   ]
  },
  {
   "cell_type": "code",
   "execution_count": 6,
   "id": "e7052527",
   "metadata": {},
   "outputs": [],
   "source": [
    "# df.describe()"
   ]
  },
  {
   "cell_type": "code",
   "execution_count": 7,
   "id": "015d71d8",
   "metadata": {},
   "outputs": [
    {
     "data": {
      "text/html": [
       "<div>\n",
       "<style scoped>\n",
       "    .dataframe tbody tr th:only-of-type {\n",
       "        vertical-align: middle;\n",
       "    }\n",
       "\n",
       "    .dataframe tbody tr th {\n",
       "        vertical-align: top;\n",
       "    }\n",
       "\n",
       "    .dataframe thead th {\n",
       "        text-align: right;\n",
       "    }\n",
       "</style>\n",
       "<table border=\"1\" class=\"dataframe\">\n",
       "  <thead>\n",
       "    <tr style=\"text-align: right;\">\n",
       "      <th></th>\n",
       "      <th>Name</th>\n",
       "      <th>Age</th>\n",
       "      <th>Date_of_Birth</th>\n",
       "      <th>Gender</th>\n",
       "      <th>Marital_Status</th>\n",
       "      <th>BMI</th>\n",
       "      <th>Practicing_Hours_2024_Jan_to_Aug</th>\n",
       "      <th>Dietary_Preference</th>\n",
       "    </tr>\n",
       "  </thead>\n",
       "  <tbody>\n",
       "    <tr>\n",
       "      <th>0</th>\n",
       "      <td>John Smith</td>\n",
       "      <td>25</td>\n",
       "      <td>1999-03-15</td>\n",
       "      <td>Male</td>\n",
       "      <td>Single</td>\n",
       "      <td>24.5</td>\n",
       "      <td>300</td>\n",
       "      <td>Vegetarian</td>\n",
       "    </tr>\n",
       "    <tr>\n",
       "      <th>1</th>\n",
       "      <td>Sarah Johnson</td>\n",
       "      <td>28</td>\n",
       "      <td>1996-07-22</td>\n",
       "      <td>Female</td>\n",
       "      <td>Married</td>\n",
       "      <td>22.8</td>\n",
       "      <td>250</td>\n",
       "      <td>Non-Vegetarian</td>\n",
       "    </tr>\n",
       "    <tr>\n",
       "      <th>2</th>\n",
       "      <td>Michael Brown</td>\n",
       "      <td>22</td>\n",
       "      <td>2002-01-10</td>\n",
       "      <td>Male</td>\n",
       "      <td>Single</td>\n",
       "      <td>26.3</td>\n",
       "      <td>320</td>\n",
       "      <td>Non-Vegetarian</td>\n",
       "    </tr>\n",
       "    <tr>\n",
       "      <th>3</th>\n",
       "      <td>Emily Davis</td>\n",
       "      <td>24</td>\n",
       "      <td>2000-05-30</td>\n",
       "      <td>Female</td>\n",
       "      <td>Single</td>\n",
       "      <td>21.7</td>\n",
       "      <td>280</td>\n",
       "      <td>Vegetarian</td>\n",
       "    </tr>\n",
       "    <tr>\n",
       "      <th>4</th>\n",
       "      <td>David Wilson</td>\n",
       "      <td>30</td>\n",
       "      <td>1993-11-05</td>\n",
       "      <td>Male</td>\n",
       "      <td>Married</td>\n",
       "      <td>29.1</td>\n",
       "      <td>280</td>\n",
       "      <td>Non-Vegetarian</td>\n",
       "    </tr>\n",
       "  </tbody>\n",
       "</table>\n",
       "</div>"
      ],
      "text/plain": [
       "            Name  Age Date_of_Birth  Gender Marital_Status   BMI  \\\n",
       "0     John Smith   25    1999-03-15    Male         Single  24.5   \n",
       "1  Sarah Johnson   28    1996-07-22  Female        Married  22.8   \n",
       "2  Michael Brown   22    2002-01-10    Male         Single  26.3   \n",
       "3    Emily Davis   24    2000-05-30  Female         Single  21.7   \n",
       "4   David Wilson   30    1993-11-05    Male        Married  29.1   \n",
       "\n",
       "   Practicing_Hours_2024_Jan_to_Aug Dietary_Preference  \n",
       "0                               300         Vegetarian  \n",
       "1                               250     Non-Vegetarian  \n",
       "2                               320     Non-Vegetarian  \n",
       "3                               280         Vegetarian  \n",
       "4                               280     Non-Vegetarian  "
      ]
     },
     "execution_count": 7,
     "metadata": {},
     "output_type": "execute_result"
    }
   ],
   "source": [
    "df.head()"
   ]
  },
  {
   "cell_type": "code",
   "execution_count": 8,
   "id": "7a201a77",
   "metadata": {},
   "outputs": [
    {
     "name": "stdout",
     "output_type": "stream",
     "text": [
      "<class 'pandas.core.frame.DataFrame'>\n",
      "RangeIndex: 10030 entries, 0 to 10029\n",
      "Data columns (total 8 columns):\n",
      " #   Column                            Non-Null Count  Dtype  \n",
      "---  ------                            --------------  -----  \n",
      " 0   Name                              10030 non-null  object \n",
      " 1   Age                               10030 non-null  int64  \n",
      " 2   Date_of_Birth                     10030 non-null  object \n",
      " 3   Gender                            10030 non-null  object \n",
      " 4   Marital_Status                    10030 non-null  object \n",
      " 5   BMI                               10030 non-null  float64\n",
      " 6   Practicing_Hours_2024_Jan_to_Aug  10030 non-null  int64  \n",
      " 7   Dietary_Preference                10030 non-null  object \n",
      "dtypes: float64(1), int64(2), object(5)\n",
      "memory usage: 627.0+ KB\n"
     ]
    }
   ],
   "source": [
    "df.info()"
   ]
  },
  {
   "cell_type": "code",
   "execution_count": 10,
   "id": "6895c1b5",
   "metadata": {},
   "outputs": [
    {
     "data": {
      "text/plain": [
       "Name                                0\n",
       "Age                                 0\n",
       "Date_of_Birth                       0\n",
       "Gender                              0\n",
       "Marital_Status                      0\n",
       "BMI                                 0\n",
       "Practicing_Hours_2024_Jan_to_Aug    0\n",
       "Dietary_Preference                  0\n",
       "dtype: int64"
      ]
     },
     "execution_count": 10,
     "metadata": {},
     "output_type": "execute_result"
    }
   ],
   "source": [
    "df.isnull().sum()"
   ]
  },
  {
   "cell_type": "code",
   "execution_count": 11,
   "id": "0208bdf9",
   "metadata": {},
   "outputs": [
    {
     "data": {
      "text/plain": [
       "Name                                0\n",
       "Age                                 0\n",
       "Date_of_Birth                       0\n",
       "Gender                              0\n",
       "Marital_Status                      0\n",
       "BMI                                 0\n",
       "Practicing_Hours_2024_Jan_to_Aug    0\n",
       "Dietary_Preference                  0\n",
       "dtype: int64"
      ]
     },
     "execution_count": 11,
     "metadata": {},
     "output_type": "execute_result"
    }
   ],
   "source": [
    "df.isna().sum()\n",
    "#df.dropna()"
   ]
  },
  {
   "cell_type": "code",
   "execution_count": 12,
   "id": "f9232840",
   "metadata": {},
   "outputs": [
    {
     "data": {
      "text/plain": [
       "0"
      ]
     },
     "execution_count": 12,
     "metadata": {},
     "output_type": "execute_result"
    }
   ],
   "source": [
    "df.duplicated().sum()"
   ]
  },
  {
   "cell_type": "code",
   "execution_count": 13,
   "id": "fe636a79",
   "metadata": {},
   "outputs": [
    {
     "data": {
      "text/plain": [
       "array(['Male', 'Female', 'male', 'F', 'female', 'm'], dtype=object)"
      ]
     },
     "execution_count": 13,
     "metadata": {},
     "output_type": "execute_result"
    }
   ],
   "source": [
    "df['Gender'].unique()"
   ]
  },
  {
   "cell_type": "code",
   "execution_count": 14,
   "id": "0a0a0e58",
   "metadata": {},
   "outputs": [],
   "source": [
    "values_to_replace = ['male', 'm']\n",
    "df['Gender'] = df['Gender'].replace(values_to_replace, 'Male')\n",
    "\n",
    "values_to_replace = ['F', 'female']\n",
    "df['Gender'] = df['Gender'].replace(values_to_replace, 'Female')"
   ]
  },
  {
   "cell_type": "code",
   "execution_count": 15,
   "id": "825b2775",
   "metadata": {},
   "outputs": [
    {
     "data": {
      "text/html": [
       "<div>\n",
       "<style scoped>\n",
       "    .dataframe tbody tr th:only-of-type {\n",
       "        vertical-align: middle;\n",
       "    }\n",
       "\n",
       "    .dataframe tbody tr th {\n",
       "        vertical-align: top;\n",
       "    }\n",
       "\n",
       "    .dataframe thead th {\n",
       "        text-align: right;\n",
       "    }\n",
       "</style>\n",
       "<table border=\"1\" class=\"dataframe\">\n",
       "  <thead>\n",
       "    <tr style=\"text-align: right;\">\n",
       "      <th></th>\n",
       "      <th>Name</th>\n",
       "      <th>Age</th>\n",
       "      <th>Date_of_Birth</th>\n",
       "      <th>Gender</th>\n",
       "      <th>Marital_Status</th>\n",
       "      <th>BMI</th>\n",
       "      <th>Practicing_Hours_2024_Jan_to_Aug</th>\n",
       "      <th>Dietary_Preference</th>\n",
       "    </tr>\n",
       "  </thead>\n",
       "  <tbody>\n",
       "    <tr>\n",
       "      <th>0</th>\n",
       "      <td>John Smith</td>\n",
       "      <td>25</td>\n",
       "      <td>1999-03-15</td>\n",
       "      <td>Male</td>\n",
       "      <td>Single</td>\n",
       "      <td>24.50</td>\n",
       "      <td>300</td>\n",
       "      <td>Vegetarian</td>\n",
       "    </tr>\n",
       "    <tr>\n",
       "      <th>1</th>\n",
       "      <td>Sarah Johnson</td>\n",
       "      <td>28</td>\n",
       "      <td>1996-07-22</td>\n",
       "      <td>Female</td>\n",
       "      <td>Married</td>\n",
       "      <td>22.80</td>\n",
       "      <td>250</td>\n",
       "      <td>Non-Vegetarian</td>\n",
       "    </tr>\n",
       "    <tr>\n",
       "      <th>2</th>\n",
       "      <td>Michael Brown</td>\n",
       "      <td>22</td>\n",
       "      <td>2002-01-10</td>\n",
       "      <td>Male</td>\n",
       "      <td>Single</td>\n",
       "      <td>26.30</td>\n",
       "      <td>320</td>\n",
       "      <td>Non-Vegetarian</td>\n",
       "    </tr>\n",
       "    <tr>\n",
       "      <th>3</th>\n",
       "      <td>Emily Davis</td>\n",
       "      <td>24</td>\n",
       "      <td>2000-05-30</td>\n",
       "      <td>Female</td>\n",
       "      <td>Single</td>\n",
       "      <td>21.70</td>\n",
       "      <td>280</td>\n",
       "      <td>Vegetarian</td>\n",
       "    </tr>\n",
       "    <tr>\n",
       "      <th>4</th>\n",
       "      <td>David Wilson</td>\n",
       "      <td>30</td>\n",
       "      <td>1993-11-05</td>\n",
       "      <td>Male</td>\n",
       "      <td>Married</td>\n",
       "      <td>29.10</td>\n",
       "      <td>280</td>\n",
       "      <td>Non-Vegetarian</td>\n",
       "    </tr>\n",
       "    <tr>\n",
       "      <th>...</th>\n",
       "      <td>...</td>\n",
       "      <td>...</td>\n",
       "      <td>...</td>\n",
       "      <td>...</td>\n",
       "      <td>...</td>\n",
       "      <td>...</td>\n",
       "      <td>...</td>\n",
       "      <td>...</td>\n",
       "    </tr>\n",
       "    <tr>\n",
       "      <th>10025</th>\n",
       "      <td>John Thompson</td>\n",
       "      <td>114</td>\n",
       "      <td>1909-02-26</td>\n",
       "      <td>Male</td>\n",
       "      <td>s</td>\n",
       "      <td>33.97</td>\n",
       "      <td>300</td>\n",
       "      <td>nv</td>\n",
       "    </tr>\n",
       "    <tr>\n",
       "      <th>10026</th>\n",
       "      <td>Kim Ruiz</td>\n",
       "      <td>102</td>\n",
       "      <td>1921-06-14</td>\n",
       "      <td>Female</td>\n",
       "      <td>single</td>\n",
       "      <td>43.10</td>\n",
       "      <td>306</td>\n",
       "      <td>Vegetarian</td>\n",
       "    </tr>\n",
       "    <tr>\n",
       "      <th>10027</th>\n",
       "      <td>Scott Paul</td>\n",
       "      <td>115</td>\n",
       "      <td>1908-09-09</td>\n",
       "      <td>Male</td>\n",
       "      <td>married</td>\n",
       "      <td>38.15</td>\n",
       "      <td>54</td>\n",
       "      <td>v</td>\n",
       "    </tr>\n",
       "    <tr>\n",
       "      <th>10028</th>\n",
       "      <td>Timothy Rice</td>\n",
       "      <td>87</td>\n",
       "      <td>1936-07-27</td>\n",
       "      <td>Male</td>\n",
       "      <td>M</td>\n",
       "      <td>12.91</td>\n",
       "      <td>484</td>\n",
       "      <td>veg</td>\n",
       "    </tr>\n",
       "    <tr>\n",
       "      <th>10029</th>\n",
       "      <td>Roberto Huerta</td>\n",
       "      <td>10</td>\n",
       "      <td>2013-08-01</td>\n",
       "      <td>Male</td>\n",
       "      <td>M</td>\n",
       "      <td>22.24</td>\n",
       "      <td>42</td>\n",
       "      <td>veg</td>\n",
       "    </tr>\n",
       "  </tbody>\n",
       "</table>\n",
       "<p>10030 rows × 8 columns</p>\n",
       "</div>"
      ],
      "text/plain": [
       "                 Name  Age Date_of_Birth  Gender Marital_Status    BMI  \\\n",
       "0          John Smith   25    1999-03-15    Male         Single  24.50   \n",
       "1       Sarah Johnson   28    1996-07-22  Female        Married  22.80   \n",
       "2       Michael Brown   22    2002-01-10    Male         Single  26.30   \n",
       "3         Emily Davis   24    2000-05-30  Female         Single  21.70   \n",
       "4        David Wilson   30    1993-11-05    Male        Married  29.10   \n",
       "...               ...  ...           ...     ...            ...    ...   \n",
       "10025   John Thompson  114    1909-02-26    Male              s  33.97   \n",
       "10026        Kim Ruiz  102    1921-06-14  Female         single  43.10   \n",
       "10027      Scott Paul  115    1908-09-09    Male        married  38.15   \n",
       "10028    Timothy Rice   87    1936-07-27    Male              M  12.91   \n",
       "10029  Roberto Huerta   10    2013-08-01    Male              M  22.24   \n",
       "\n",
       "       Practicing_Hours_2024_Jan_to_Aug Dietary_Preference  \n",
       "0                                   300         Vegetarian  \n",
       "1                                   250     Non-Vegetarian  \n",
       "2                                   320     Non-Vegetarian  \n",
       "3                                   280         Vegetarian  \n",
       "4                                   280     Non-Vegetarian  \n",
       "...                                 ...                ...  \n",
       "10025                               300                 nv  \n",
       "10026                               306         Vegetarian  \n",
       "10027                                54                  v  \n",
       "10028                               484                veg  \n",
       "10029                                42                veg  \n",
       "\n",
       "[10030 rows x 8 columns]"
      ]
     },
     "execution_count": 15,
     "metadata": {},
     "output_type": "execute_result"
    }
   ],
   "source": [
    "df"
   ]
  },
  {
   "cell_type": "code",
   "execution_count": 16,
   "id": "abd3a56e",
   "metadata": {},
   "outputs": [
    {
     "data": {
      "text/plain": [
       "array(['Single', 'Married', 's', 'married', 'single', 'M'], dtype=object)"
      ]
     },
     "execution_count": 16,
     "metadata": {},
     "output_type": "execute_result"
    }
   ],
   "source": [
    "df['Marital_Status'].unique()"
   ]
  },
  {
   "cell_type": "code",
   "execution_count": 17,
   "id": "cf951b2e",
   "metadata": {},
   "outputs": [],
   "source": [
    "values_to_replace = ['s', 'single']\n",
    "df['Marital_Status'] = df['Marital_Status'].replace(values_to_replace, 'Single')\n",
    "\n",
    "values_to_replace = ['married', 'M']\n",
    "df['Marital_Status'] = df['Marital_Status'].replace(values_to_replace, 'Married')"
   ]
  },
  {
   "cell_type": "code",
   "execution_count": 18,
   "id": "fd91ae2f",
   "metadata": {},
   "outputs": [
    {
     "data": {
      "text/html": [
       "<div>\n",
       "<style scoped>\n",
       "    .dataframe tbody tr th:only-of-type {\n",
       "        vertical-align: middle;\n",
       "    }\n",
       "\n",
       "    .dataframe tbody tr th {\n",
       "        vertical-align: top;\n",
       "    }\n",
       "\n",
       "    .dataframe thead th {\n",
       "        text-align: right;\n",
       "    }\n",
       "</style>\n",
       "<table border=\"1\" class=\"dataframe\">\n",
       "  <thead>\n",
       "    <tr style=\"text-align: right;\">\n",
       "      <th></th>\n",
       "      <th>Name</th>\n",
       "      <th>Age</th>\n",
       "      <th>Date_of_Birth</th>\n",
       "      <th>Gender</th>\n",
       "      <th>Marital_Status</th>\n",
       "      <th>BMI</th>\n",
       "      <th>Practicing_Hours_2024_Jan_to_Aug</th>\n",
       "      <th>Dietary_Preference</th>\n",
       "    </tr>\n",
       "  </thead>\n",
       "  <tbody>\n",
       "    <tr>\n",
       "      <th>0</th>\n",
       "      <td>John Smith</td>\n",
       "      <td>25</td>\n",
       "      <td>1999-03-15</td>\n",
       "      <td>Male</td>\n",
       "      <td>Single</td>\n",
       "      <td>24.50</td>\n",
       "      <td>300</td>\n",
       "      <td>Vegetarian</td>\n",
       "    </tr>\n",
       "    <tr>\n",
       "      <th>1</th>\n",
       "      <td>Sarah Johnson</td>\n",
       "      <td>28</td>\n",
       "      <td>1996-07-22</td>\n",
       "      <td>Female</td>\n",
       "      <td>Married</td>\n",
       "      <td>22.80</td>\n",
       "      <td>250</td>\n",
       "      <td>Non-Vegetarian</td>\n",
       "    </tr>\n",
       "    <tr>\n",
       "      <th>2</th>\n",
       "      <td>Michael Brown</td>\n",
       "      <td>22</td>\n",
       "      <td>2002-01-10</td>\n",
       "      <td>Male</td>\n",
       "      <td>Single</td>\n",
       "      <td>26.30</td>\n",
       "      <td>320</td>\n",
       "      <td>Non-Vegetarian</td>\n",
       "    </tr>\n",
       "    <tr>\n",
       "      <th>3</th>\n",
       "      <td>Emily Davis</td>\n",
       "      <td>24</td>\n",
       "      <td>2000-05-30</td>\n",
       "      <td>Female</td>\n",
       "      <td>Single</td>\n",
       "      <td>21.70</td>\n",
       "      <td>280</td>\n",
       "      <td>Vegetarian</td>\n",
       "    </tr>\n",
       "    <tr>\n",
       "      <th>4</th>\n",
       "      <td>David Wilson</td>\n",
       "      <td>30</td>\n",
       "      <td>1993-11-05</td>\n",
       "      <td>Male</td>\n",
       "      <td>Married</td>\n",
       "      <td>29.10</td>\n",
       "      <td>280</td>\n",
       "      <td>Non-Vegetarian</td>\n",
       "    </tr>\n",
       "    <tr>\n",
       "      <th>...</th>\n",
       "      <td>...</td>\n",
       "      <td>...</td>\n",
       "      <td>...</td>\n",
       "      <td>...</td>\n",
       "      <td>...</td>\n",
       "      <td>...</td>\n",
       "      <td>...</td>\n",
       "      <td>...</td>\n",
       "    </tr>\n",
       "    <tr>\n",
       "      <th>10025</th>\n",
       "      <td>John Thompson</td>\n",
       "      <td>114</td>\n",
       "      <td>1909-02-26</td>\n",
       "      <td>Male</td>\n",
       "      <td>Single</td>\n",
       "      <td>33.97</td>\n",
       "      <td>300</td>\n",
       "      <td>nv</td>\n",
       "    </tr>\n",
       "    <tr>\n",
       "      <th>10026</th>\n",
       "      <td>Kim Ruiz</td>\n",
       "      <td>102</td>\n",
       "      <td>1921-06-14</td>\n",
       "      <td>Female</td>\n",
       "      <td>Single</td>\n",
       "      <td>43.10</td>\n",
       "      <td>306</td>\n",
       "      <td>Vegetarian</td>\n",
       "    </tr>\n",
       "    <tr>\n",
       "      <th>10027</th>\n",
       "      <td>Scott Paul</td>\n",
       "      <td>115</td>\n",
       "      <td>1908-09-09</td>\n",
       "      <td>Male</td>\n",
       "      <td>Married</td>\n",
       "      <td>38.15</td>\n",
       "      <td>54</td>\n",
       "      <td>v</td>\n",
       "    </tr>\n",
       "    <tr>\n",
       "      <th>10028</th>\n",
       "      <td>Timothy Rice</td>\n",
       "      <td>87</td>\n",
       "      <td>1936-07-27</td>\n",
       "      <td>Male</td>\n",
       "      <td>Married</td>\n",
       "      <td>12.91</td>\n",
       "      <td>484</td>\n",
       "      <td>veg</td>\n",
       "    </tr>\n",
       "    <tr>\n",
       "      <th>10029</th>\n",
       "      <td>Roberto Huerta</td>\n",
       "      <td>10</td>\n",
       "      <td>2013-08-01</td>\n",
       "      <td>Male</td>\n",
       "      <td>Married</td>\n",
       "      <td>22.24</td>\n",
       "      <td>42</td>\n",
       "      <td>veg</td>\n",
       "    </tr>\n",
       "  </tbody>\n",
       "</table>\n",
       "<p>10030 rows × 8 columns</p>\n",
       "</div>"
      ],
      "text/plain": [
       "                 Name  Age Date_of_Birth  Gender Marital_Status    BMI  \\\n",
       "0          John Smith   25    1999-03-15    Male         Single  24.50   \n",
       "1       Sarah Johnson   28    1996-07-22  Female        Married  22.80   \n",
       "2       Michael Brown   22    2002-01-10    Male         Single  26.30   \n",
       "3         Emily Davis   24    2000-05-30  Female         Single  21.70   \n",
       "4        David Wilson   30    1993-11-05    Male        Married  29.10   \n",
       "...               ...  ...           ...     ...            ...    ...   \n",
       "10025   John Thompson  114    1909-02-26    Male         Single  33.97   \n",
       "10026        Kim Ruiz  102    1921-06-14  Female         Single  43.10   \n",
       "10027      Scott Paul  115    1908-09-09    Male        Married  38.15   \n",
       "10028    Timothy Rice   87    1936-07-27    Male        Married  12.91   \n",
       "10029  Roberto Huerta   10    2013-08-01    Male        Married  22.24   \n",
       "\n",
       "       Practicing_Hours_2024_Jan_to_Aug Dietary_Preference  \n",
       "0                                   300         Vegetarian  \n",
       "1                                   250     Non-Vegetarian  \n",
       "2                                   320     Non-Vegetarian  \n",
       "3                                   280         Vegetarian  \n",
       "4                                   280     Non-Vegetarian  \n",
       "...                                 ...                ...  \n",
       "10025                               300                 nv  \n",
       "10026                               306         Vegetarian  \n",
       "10027                                54                  v  \n",
       "10028                               484                veg  \n",
       "10029                                42                veg  \n",
       "\n",
       "[10030 rows x 8 columns]"
      ]
     },
     "execution_count": 18,
     "metadata": {},
     "output_type": "execute_result"
    }
   ],
   "source": [
    "df"
   ]
  },
  {
   "cell_type": "code",
   "execution_count": 19,
   "id": "e21bcd56",
   "metadata": {},
   "outputs": [
    {
     "data": {
      "text/plain": [
       "array(['Vegetarian', 'Non-Vegetarian', 'non-veg', 'nonveg',\n",
       "       'Non Vegetarian', 'nv', 'veg', 'v'], dtype=object)"
      ]
     },
     "execution_count": 19,
     "metadata": {},
     "output_type": "execute_result"
    }
   ],
   "source": [
    "df['Dietary_Preference'].unique()"
   ]
  },
  {
   "cell_type": "code",
   "execution_count": 20,
   "id": "ede9396a",
   "metadata": {},
   "outputs": [],
   "source": [
    "values_to_replace = ['veg', 'v']\n",
    "df['Dietary_Preference'] = df['Dietary_Preference'].replace(values_to_replace, 'Vegetarian')\n",
    "\n",
    "values_to_replace = ['non-veg', 'nonveg', 'Non Vegetarian', 'nv']\n",
    "df['Dietary_Preference'] = df['Dietary_Preference'].replace(values_to_replace, 'Non-Vegetarian')"
   ]
  },
  {
   "cell_type": "code",
   "execution_count": 21,
   "id": "4cf1bd58",
   "metadata": {},
   "outputs": [
    {
     "data": {
      "text/html": [
       "<div>\n",
       "<style scoped>\n",
       "    .dataframe tbody tr th:only-of-type {\n",
       "        vertical-align: middle;\n",
       "    }\n",
       "\n",
       "    .dataframe tbody tr th {\n",
       "        vertical-align: top;\n",
       "    }\n",
       "\n",
       "    .dataframe thead th {\n",
       "        text-align: right;\n",
       "    }\n",
       "</style>\n",
       "<table border=\"1\" class=\"dataframe\">\n",
       "  <thead>\n",
       "    <tr style=\"text-align: right;\">\n",
       "      <th></th>\n",
       "      <th>Name</th>\n",
       "      <th>Age</th>\n",
       "      <th>Date_of_Birth</th>\n",
       "      <th>Gender</th>\n",
       "      <th>Marital_Status</th>\n",
       "      <th>BMI</th>\n",
       "      <th>Practicing_Hours_2024_Jan_to_Aug</th>\n",
       "      <th>Dietary_Preference</th>\n",
       "    </tr>\n",
       "  </thead>\n",
       "  <tbody>\n",
       "    <tr>\n",
       "      <th>0</th>\n",
       "      <td>John Smith</td>\n",
       "      <td>25</td>\n",
       "      <td>1999-03-15</td>\n",
       "      <td>Male</td>\n",
       "      <td>Single</td>\n",
       "      <td>24.50</td>\n",
       "      <td>300</td>\n",
       "      <td>Vegetarian</td>\n",
       "    </tr>\n",
       "    <tr>\n",
       "      <th>1</th>\n",
       "      <td>Sarah Johnson</td>\n",
       "      <td>28</td>\n",
       "      <td>1996-07-22</td>\n",
       "      <td>Female</td>\n",
       "      <td>Married</td>\n",
       "      <td>22.80</td>\n",
       "      <td>250</td>\n",
       "      <td>Non-Vegetarian</td>\n",
       "    </tr>\n",
       "    <tr>\n",
       "      <th>2</th>\n",
       "      <td>Michael Brown</td>\n",
       "      <td>22</td>\n",
       "      <td>2002-01-10</td>\n",
       "      <td>Male</td>\n",
       "      <td>Single</td>\n",
       "      <td>26.30</td>\n",
       "      <td>320</td>\n",
       "      <td>Non-Vegetarian</td>\n",
       "    </tr>\n",
       "    <tr>\n",
       "      <th>3</th>\n",
       "      <td>Emily Davis</td>\n",
       "      <td>24</td>\n",
       "      <td>2000-05-30</td>\n",
       "      <td>Female</td>\n",
       "      <td>Single</td>\n",
       "      <td>21.70</td>\n",
       "      <td>280</td>\n",
       "      <td>Vegetarian</td>\n",
       "    </tr>\n",
       "    <tr>\n",
       "      <th>4</th>\n",
       "      <td>David Wilson</td>\n",
       "      <td>30</td>\n",
       "      <td>1993-11-05</td>\n",
       "      <td>Male</td>\n",
       "      <td>Married</td>\n",
       "      <td>29.10</td>\n",
       "      <td>280</td>\n",
       "      <td>Non-Vegetarian</td>\n",
       "    </tr>\n",
       "    <tr>\n",
       "      <th>...</th>\n",
       "      <td>...</td>\n",
       "      <td>...</td>\n",
       "      <td>...</td>\n",
       "      <td>...</td>\n",
       "      <td>...</td>\n",
       "      <td>...</td>\n",
       "      <td>...</td>\n",
       "      <td>...</td>\n",
       "    </tr>\n",
       "    <tr>\n",
       "      <th>10025</th>\n",
       "      <td>John Thompson</td>\n",
       "      <td>114</td>\n",
       "      <td>1909-02-26</td>\n",
       "      <td>Male</td>\n",
       "      <td>Single</td>\n",
       "      <td>33.97</td>\n",
       "      <td>300</td>\n",
       "      <td>Non-Vegetarian</td>\n",
       "    </tr>\n",
       "    <tr>\n",
       "      <th>10026</th>\n",
       "      <td>Kim Ruiz</td>\n",
       "      <td>102</td>\n",
       "      <td>1921-06-14</td>\n",
       "      <td>Female</td>\n",
       "      <td>Single</td>\n",
       "      <td>43.10</td>\n",
       "      <td>306</td>\n",
       "      <td>Vegetarian</td>\n",
       "    </tr>\n",
       "    <tr>\n",
       "      <th>10027</th>\n",
       "      <td>Scott Paul</td>\n",
       "      <td>115</td>\n",
       "      <td>1908-09-09</td>\n",
       "      <td>Male</td>\n",
       "      <td>Married</td>\n",
       "      <td>38.15</td>\n",
       "      <td>54</td>\n",
       "      <td>Vegetarian</td>\n",
       "    </tr>\n",
       "    <tr>\n",
       "      <th>10028</th>\n",
       "      <td>Timothy Rice</td>\n",
       "      <td>87</td>\n",
       "      <td>1936-07-27</td>\n",
       "      <td>Male</td>\n",
       "      <td>Married</td>\n",
       "      <td>12.91</td>\n",
       "      <td>484</td>\n",
       "      <td>Vegetarian</td>\n",
       "    </tr>\n",
       "    <tr>\n",
       "      <th>10029</th>\n",
       "      <td>Roberto Huerta</td>\n",
       "      <td>10</td>\n",
       "      <td>2013-08-01</td>\n",
       "      <td>Male</td>\n",
       "      <td>Married</td>\n",
       "      <td>22.24</td>\n",
       "      <td>42</td>\n",
       "      <td>Vegetarian</td>\n",
       "    </tr>\n",
       "  </tbody>\n",
       "</table>\n",
       "<p>10030 rows × 8 columns</p>\n",
       "</div>"
      ],
      "text/plain": [
       "                 Name  Age Date_of_Birth  Gender Marital_Status    BMI  \\\n",
       "0          John Smith   25    1999-03-15    Male         Single  24.50   \n",
       "1       Sarah Johnson   28    1996-07-22  Female        Married  22.80   \n",
       "2       Michael Brown   22    2002-01-10    Male         Single  26.30   \n",
       "3         Emily Davis   24    2000-05-30  Female         Single  21.70   \n",
       "4        David Wilson   30    1993-11-05    Male        Married  29.10   \n",
       "...               ...  ...           ...     ...            ...    ...   \n",
       "10025   John Thompson  114    1909-02-26    Male         Single  33.97   \n",
       "10026        Kim Ruiz  102    1921-06-14  Female         Single  43.10   \n",
       "10027      Scott Paul  115    1908-09-09    Male        Married  38.15   \n",
       "10028    Timothy Rice   87    1936-07-27    Male        Married  12.91   \n",
       "10029  Roberto Huerta   10    2013-08-01    Male        Married  22.24   \n",
       "\n",
       "       Practicing_Hours_2024_Jan_to_Aug Dietary_Preference  \n",
       "0                                   300         Vegetarian  \n",
       "1                                   250     Non-Vegetarian  \n",
       "2                                   320     Non-Vegetarian  \n",
       "3                                   280         Vegetarian  \n",
       "4                                   280     Non-Vegetarian  \n",
       "...                                 ...                ...  \n",
       "10025                               300     Non-Vegetarian  \n",
       "10026                               306         Vegetarian  \n",
       "10027                                54         Vegetarian  \n",
       "10028                               484         Vegetarian  \n",
       "10029                                42         Vegetarian  \n",
       "\n",
       "[10030 rows x 8 columns]"
      ]
     },
     "execution_count": 21,
     "metadata": {},
     "output_type": "execute_result"
    }
   ],
   "source": [
    "df"
   ]
  },
  {
   "cell_type": "code",
   "execution_count": 22,
   "id": "5586141e",
   "metadata": {},
   "outputs": [
    {
     "data": {
      "text/plain": [
       "1067"
      ]
     },
     "execution_count": 22,
     "metadata": {},
     "output_type": "execute_result"
    }
   ],
   "source": [
    "(df['Age']<0).sum()"
   ]
  },
  {
   "cell_type": "code",
   "execution_count": 23,
   "id": "06b26745",
   "metadata": {},
   "outputs": [
    {
     "data": {
      "text/plain": [
       "(8963, 8)"
      ]
     },
     "execution_count": 23,
     "metadata": {},
     "output_type": "execute_result"
    }
   ],
   "source": [
    "df = df[df['Age'] >= 0]\n",
    "df.shape"
   ]
  },
  {
   "cell_type": "code",
   "execution_count": 24,
   "id": "5f7f6b9d",
   "metadata": {},
   "outputs": [],
   "source": [
    "# df = df.loc[df['Age'] > 0]\n",
    "# df.reset_index(drop=True, inplace=True)"
   ]
  },
  {
   "cell_type": "code",
   "execution_count": 25,
   "id": "30e31da0",
   "metadata": {},
   "outputs": [
    {
     "data": {
      "text/plain": [
       "8436"
      ]
     },
     "execution_count": 25,
     "metadata": {},
     "output_type": "execute_result"
    }
   ],
   "source": [
    "df['Name'].nunique()"
   ]
  },
  {
   "cell_type": "code",
   "execution_count": 29,
   "id": "c54aaffa",
   "metadata": {},
   "outputs": [
    {
     "name": "stdout",
     "output_type": "stream",
     "text": [
      "Duplicate Rows based on 'Name':\n",
      "                   Name  Age Date_of_Birth  Gender Marital_Status    BMI  \\\n",
      "361        James Garcia   99    1924-07-07  Female         Single  33.16   \n",
      "519     Stephanie Jones   38    1985-04-29  Female         Single  36.87   \n",
      "609         Jamie Jones   59    1964-07-05  Female        Married  10.22   \n",
      "676       Michael Davis   37    1986-04-29    Male        Married  27.46   \n",
      "856         Brian Smith   82    1941-07-14  Female         Single  12.39   \n",
      "...                 ...  ...           ...     ...            ...    ...   \n",
      "9915      Thomas Thomas   45    1978-09-30    Male         Single  21.87   \n",
      "9925      Melissa Brown   45    1914-02-25  Female         Single  33.91   \n",
      "9943       Steven Smith   38    1985-11-21    Male         Single  24.15   \n",
      "9961   Raymond Sullivan   77    1946-05-24  Female        Married  39.33   \n",
      "10025     John Thompson  114    1909-02-26    Male         Single  33.97   \n",
      "\n",
      "       Practicing_Hours_2024_Jan_to_Aug Dietary_Preference  \n",
      "361                                 315     Non-Vegetarian  \n",
      "519                                 405     Non-Vegetarian  \n",
      "609                                 455     Non-Vegetarian  \n",
      "676                                 401         Vegetarian  \n",
      "856                                 404     Non-Vegetarian  \n",
      "...                                 ...                ...  \n",
      "9915                                 99         Vegetarian  \n",
      "9925                                458     Non-Vegetarian  \n",
      "9943                                383     Non-Vegetarian  \n",
      "9961                                213         Vegetarian  \n",
      "10025                               300     Non-Vegetarian  \n",
      "\n",
      "[527 rows x 8 columns]\n"
     ]
    }
   ],
   "source": [
    "duplicate_rows = df[df.duplicated(subset=['Name'])]\n",
    "print(\"Duplicate Rows based on 'Name':\")\n",
    "print(duplicate_rows)"
   ]
  },
  {
   "cell_type": "code",
   "execution_count": 31,
   "id": "f8f1de58",
   "metadata": {},
   "outputs": [
    {
     "data": {
      "text/plain": [
       "2"
      ]
     },
     "execution_count": 31,
     "metadata": {},
     "output_type": "execute_result"
    }
   ],
   "source": [
    "(df['Name']=='James Garcia').sum()"
   ]
  },
  {
   "cell_type": "code",
   "execution_count": 32,
   "id": "d278537a",
   "metadata": {},
   "outputs": [
    {
     "data": {
      "text/html": [
       "<div>\n",
       "<style scoped>\n",
       "    .dataframe tbody tr th:only-of-type {\n",
       "        vertical-align: middle;\n",
       "    }\n",
       "\n",
       "    .dataframe tbody tr th {\n",
       "        vertical-align: top;\n",
       "    }\n",
       "\n",
       "    .dataframe thead th {\n",
       "        text-align: right;\n",
       "    }\n",
       "</style>\n",
       "<table border=\"1\" class=\"dataframe\">\n",
       "  <thead>\n",
       "    <tr style=\"text-align: right;\">\n",
       "      <th></th>\n",
       "      <th>Name</th>\n",
       "      <th>Age</th>\n",
       "      <th>Date_of_Birth</th>\n",
       "      <th>Gender</th>\n",
       "      <th>Marital_Status</th>\n",
       "      <th>BMI</th>\n",
       "      <th>Practicing_Hours_2024_Jan_to_Aug</th>\n",
       "      <th>Dietary_Preference</th>\n",
       "    </tr>\n",
       "  </thead>\n",
       "  <tbody>\n",
       "    <tr>\n",
       "      <th>6</th>\n",
       "      <td>James Garcia</td>\n",
       "      <td>29</td>\n",
       "      <td>1995-04-03</td>\n",
       "      <td>Male</td>\n",
       "      <td>Married</td>\n",
       "      <td>27.00</td>\n",
       "      <td>310</td>\n",
       "      <td>Vegetarian</td>\n",
       "    </tr>\n",
       "    <tr>\n",
       "      <th>361</th>\n",
       "      <td>James Garcia</td>\n",
       "      <td>99</td>\n",
       "      <td>1924-07-07</td>\n",
       "      <td>Female</td>\n",
       "      <td>Single</td>\n",
       "      <td>33.16</td>\n",
       "      <td>315</td>\n",
       "      <td>Non-Vegetarian</td>\n",
       "    </tr>\n",
       "  </tbody>\n",
       "</table>\n",
       "</div>"
      ],
      "text/plain": [
       "             Name  Age Date_of_Birth  Gender Marital_Status    BMI  \\\n",
       "6    James Garcia   29    1995-04-03    Male        Married  27.00   \n",
       "361  James Garcia   99    1924-07-07  Female         Single  33.16   \n",
       "\n",
       "     Practicing_Hours_2024_Jan_to_Aug Dietary_Preference  \n",
       "6                                 310         Vegetarian  \n",
       "361                               315     Non-Vegetarian  "
      ]
     },
     "execution_count": 32,
     "metadata": {},
     "output_type": "execute_result"
    }
   ],
   "source": [
    "df[df['Name']=='James Garcia']"
   ]
  },
  {
   "cell_type": "code",
   "execution_count": 36,
   "id": "b904f657",
   "metadata": {},
   "outputs": [
    {
     "data": {
      "text/plain": [
       "0    1999-03-15\n",
       "1    1996-07-22\n",
       "2    2002-01-10\n",
       "3    2000-05-30\n",
       "4    1993-11-05\n",
       "Name: Date_of_Birth, dtype: object"
      ]
     },
     "execution_count": 36,
     "metadata": {},
     "output_type": "execute_result"
    }
   ],
   "source": [
    "df['Date_of_Birth'].head()"
   ]
  },
  {
   "cell_type": "code",
   "execution_count": 39,
   "id": "dea3ef7a",
   "metadata": {},
   "outputs": [],
   "source": [
    "import warnings\n",
    "warnings.filterwarnings(\"ignore\")"
   ]
  },
  {
   "cell_type": "code",
   "execution_count": 40,
   "id": "46862aaf",
   "metadata": {},
   "outputs": [],
   "source": [
    "df['Date_of_Birth'] = pd.to_datetime(df['Date_of_Birth'])"
   ]
  },
  {
   "cell_type": "code",
   "execution_count": 41,
   "id": "26c67d3b",
   "metadata": {},
   "outputs": [
    {
     "data": {
      "text/plain": [
       "0   1999-03-15\n",
       "1   1996-07-22\n",
       "2   2002-01-10\n",
       "3   2000-05-30\n",
       "4   1993-11-05\n",
       "Name: Date_of_Birth, dtype: datetime64[ns]"
      ]
     },
     "execution_count": 41,
     "metadata": {},
     "output_type": "execute_result"
    }
   ],
   "source": [
    "df['Date_of_Birth'].head()"
   ]
  },
  {
   "cell_type": "code",
   "execution_count": 42,
   "id": "f0e4ba91",
   "metadata": {},
   "outputs": [
    {
     "data": {
      "text/plain": [
       "array([ 3,  7,  1,  5, 11,  9,  4,  2,  6, 12,  8, 10], dtype=int64)"
      ]
     },
     "execution_count": 42,
     "metadata": {},
     "output_type": "execute_result"
    }
   ],
   "source": [
    "df['Date_of_Birth'].dt.month.unique()"
   ]
  },
  {
   "cell_type": "code",
   "execution_count": 43,
   "id": "111e432f",
   "metadata": {},
   "outputs": [
    {
     "data": {
      "text/plain": [
       "31"
      ]
     },
     "execution_count": 43,
     "metadata": {},
     "output_type": "execute_result"
    }
   ],
   "source": [
    "df['Date_of_Birth'].dt.day.nunique()"
   ]
  },
  {
   "cell_type": "code",
   "execution_count": 44,
   "id": "808d4fc2",
   "metadata": {},
   "outputs": [
    {
     "data": {
      "text/html": [
       "<div>\n",
       "<style scoped>\n",
       "    .dataframe tbody tr th:only-of-type {\n",
       "        vertical-align: middle;\n",
       "    }\n",
       "\n",
       "    .dataframe tbody tr th {\n",
       "        vertical-align: top;\n",
       "    }\n",
       "\n",
       "    .dataframe thead th {\n",
       "        text-align: right;\n",
       "    }\n",
       "</style>\n",
       "<table border=\"1\" class=\"dataframe\">\n",
       "  <thead>\n",
       "    <tr style=\"text-align: right;\">\n",
       "      <th></th>\n",
       "      <th>Name</th>\n",
       "      <th>Age</th>\n",
       "      <th>Date_of_Birth</th>\n",
       "      <th>Gender</th>\n",
       "      <th>Marital_Status</th>\n",
       "      <th>BMI</th>\n",
       "      <th>Practicing_Hours_2024_Jan_to_Aug</th>\n",
       "      <th>Dietary_Preference</th>\n",
       "    </tr>\n",
       "  </thead>\n",
       "  <tbody>\n",
       "    <tr>\n",
       "      <th>0</th>\n",
       "      <td>John Smith</td>\n",
       "      <td>25</td>\n",
       "      <td>1999-03-15</td>\n",
       "      <td>Male</td>\n",
       "      <td>Single</td>\n",
       "      <td>24.50</td>\n",
       "      <td>300</td>\n",
       "      <td>Vegetarian</td>\n",
       "    </tr>\n",
       "    <tr>\n",
       "      <th>1</th>\n",
       "      <td>Sarah Johnson</td>\n",
       "      <td>28</td>\n",
       "      <td>1996-07-22</td>\n",
       "      <td>Female</td>\n",
       "      <td>Married</td>\n",
       "      <td>22.80</td>\n",
       "      <td>250</td>\n",
       "      <td>Non-Vegetarian</td>\n",
       "    </tr>\n",
       "    <tr>\n",
       "      <th>2</th>\n",
       "      <td>Michael Brown</td>\n",
       "      <td>22</td>\n",
       "      <td>2002-01-10</td>\n",
       "      <td>Male</td>\n",
       "      <td>Single</td>\n",
       "      <td>26.30</td>\n",
       "      <td>320</td>\n",
       "      <td>Non-Vegetarian</td>\n",
       "    </tr>\n",
       "    <tr>\n",
       "      <th>3</th>\n",
       "      <td>Emily Davis</td>\n",
       "      <td>24</td>\n",
       "      <td>2000-05-30</td>\n",
       "      <td>Female</td>\n",
       "      <td>Single</td>\n",
       "      <td>21.70</td>\n",
       "      <td>280</td>\n",
       "      <td>Vegetarian</td>\n",
       "    </tr>\n",
       "    <tr>\n",
       "      <th>4</th>\n",
       "      <td>David Wilson</td>\n",
       "      <td>30</td>\n",
       "      <td>1993-11-05</td>\n",
       "      <td>Male</td>\n",
       "      <td>Married</td>\n",
       "      <td>29.10</td>\n",
       "      <td>280</td>\n",
       "      <td>Non-Vegetarian</td>\n",
       "    </tr>\n",
       "    <tr>\n",
       "      <th>...</th>\n",
       "      <td>...</td>\n",
       "      <td>...</td>\n",
       "      <td>...</td>\n",
       "      <td>...</td>\n",
       "      <td>...</td>\n",
       "      <td>...</td>\n",
       "      <td>...</td>\n",
       "      <td>...</td>\n",
       "    </tr>\n",
       "    <tr>\n",
       "      <th>10025</th>\n",
       "      <td>John Thompson</td>\n",
       "      <td>114</td>\n",
       "      <td>1909-02-26</td>\n",
       "      <td>Male</td>\n",
       "      <td>Single</td>\n",
       "      <td>33.97</td>\n",
       "      <td>300</td>\n",
       "      <td>Non-Vegetarian</td>\n",
       "    </tr>\n",
       "    <tr>\n",
       "      <th>10026</th>\n",
       "      <td>Kim Ruiz</td>\n",
       "      <td>102</td>\n",
       "      <td>1921-06-14</td>\n",
       "      <td>Female</td>\n",
       "      <td>Single</td>\n",
       "      <td>43.10</td>\n",
       "      <td>306</td>\n",
       "      <td>Vegetarian</td>\n",
       "    </tr>\n",
       "    <tr>\n",
       "      <th>10027</th>\n",
       "      <td>Scott Paul</td>\n",
       "      <td>115</td>\n",
       "      <td>1908-09-09</td>\n",
       "      <td>Male</td>\n",
       "      <td>Married</td>\n",
       "      <td>38.15</td>\n",
       "      <td>54</td>\n",
       "      <td>Vegetarian</td>\n",
       "    </tr>\n",
       "    <tr>\n",
       "      <th>10028</th>\n",
       "      <td>Timothy Rice</td>\n",
       "      <td>87</td>\n",
       "      <td>1936-07-27</td>\n",
       "      <td>Male</td>\n",
       "      <td>Married</td>\n",
       "      <td>12.91</td>\n",
       "      <td>484</td>\n",
       "      <td>Vegetarian</td>\n",
       "    </tr>\n",
       "    <tr>\n",
       "      <th>10029</th>\n",
       "      <td>Roberto Huerta</td>\n",
       "      <td>10</td>\n",
       "      <td>2013-08-01</td>\n",
       "      <td>Male</td>\n",
       "      <td>Married</td>\n",
       "      <td>22.24</td>\n",
       "      <td>42</td>\n",
       "      <td>Vegetarian</td>\n",
       "    </tr>\n",
       "  </tbody>\n",
       "</table>\n",
       "<p>8963 rows × 8 columns</p>\n",
       "</div>"
      ],
      "text/plain": [
       "                 Name  Age Date_of_Birth  Gender Marital_Status    BMI  \\\n",
       "0          John Smith   25    1999-03-15    Male         Single  24.50   \n",
       "1       Sarah Johnson   28    1996-07-22  Female        Married  22.80   \n",
       "2       Michael Brown   22    2002-01-10    Male         Single  26.30   \n",
       "3         Emily Davis   24    2000-05-30  Female         Single  21.70   \n",
       "4        David Wilson   30    1993-11-05    Male        Married  29.10   \n",
       "...               ...  ...           ...     ...            ...    ...   \n",
       "10025   John Thompson  114    1909-02-26    Male         Single  33.97   \n",
       "10026        Kim Ruiz  102    1921-06-14  Female         Single  43.10   \n",
       "10027      Scott Paul  115    1908-09-09    Male        Married  38.15   \n",
       "10028    Timothy Rice   87    1936-07-27    Male        Married  12.91   \n",
       "10029  Roberto Huerta   10    2013-08-01    Male        Married  22.24   \n",
       "\n",
       "       Practicing_Hours_2024_Jan_to_Aug Dietary_Preference  \n",
       "0                                   300         Vegetarian  \n",
       "1                                   250     Non-Vegetarian  \n",
       "2                                   320     Non-Vegetarian  \n",
       "3                                   280         Vegetarian  \n",
       "4                                   280     Non-Vegetarian  \n",
       "...                                 ...                ...  \n",
       "10025                               300     Non-Vegetarian  \n",
       "10026                               306         Vegetarian  \n",
       "10027                                54         Vegetarian  \n",
       "10028                               484         Vegetarian  \n",
       "10029                                42         Vegetarian  \n",
       "\n",
       "[8963 rows x 8 columns]"
      ]
     },
     "execution_count": 44,
     "metadata": {},
     "output_type": "execute_result"
    }
   ],
   "source": [
    "df"
   ]
  },
  {
   "cell_type": "code",
   "execution_count": null,
   "id": "7348bf42",
   "metadata": {},
   "outputs": [],
   "source": []
  }
 ],
 "metadata": {
  "kernelspec": {
   "display_name": "Python 3 (ipykernel)",
   "language": "python",
   "name": "python3"
  },
  "language_info": {
   "codemirror_mode": {
    "name": "ipython",
    "version": 3
   },
   "file_extension": ".py",
   "mimetype": "text/x-python",
   "name": "python",
   "nbconvert_exporter": "python",
   "pygments_lexer": "ipython3",
   "version": "3.9.12"
  }
 },
 "nbformat": 4,
 "nbformat_minor": 5
}
